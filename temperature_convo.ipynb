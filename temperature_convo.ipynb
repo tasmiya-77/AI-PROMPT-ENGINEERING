{
  "nbformat": 4,
  "nbformat_minor": 0,
  "metadata": {
    "colab": {
      "provenance": []
    },
    "kernelspec": {
      "name": "python3",
      "display_name": "Python 3"
    },
    "language_info": {
      "name": "python"
    }
  },
  "cells": [
    {
      "cell_type": "code",
      "execution_count": 3,
      "metadata": {
        "id": "6mKPmMM75Rst"
      },
      "outputs": [],
      "source": [
        "def convert_temperature(value, unit):\n",
        "    if unit == 'C':\n",
        "        # Convert Celsius to Fahrenheit\n",
        "        result = (value * 9/5) + 32\n",
        "    elif unit == 'F':\n",
        "        # Convert Fahrenheit to Celsius\n",
        "        result = (value - 32) * 5/9\n",
        "    else:\n",
        "        return \"Invalid unit. Please use 'C' or 'F'.\"\n",
        "\n",
        "    return round(result, 2)\n"
      ]
    },
    {
      "cell_type": "code",
      "source": [
        "# Test cases to see output\n",
        "\n",
        "# Convert 100 Celsius to Fahrenheit\n",
        "print(\"100°C to Fahrenheit:\", convert_temperature(100, 'C'))\n",
        "\n",
        "# Convert 212 Fahrenheit to Celsius\n",
        "print(\"212°F to Celsius:\", convert_temperature(212, 'F'))\n",
        "\n",
        "# Convert 37 Celsius to Fahrenheit\n",
        "print(\"37°C to Fahrenheit:\", convert_temperature(37, 'C'))\n",
        "\n",
        "# Convert 98.6 Fahrenheit to Celsius\n",
        "print(\"98.6°F to Celsius:\", convert_temperature(98.6, 'F'))\n"
      ],
      "metadata": {
        "colab": {
          "base_uri": "https://localhost:8080/"
        },
        "id": "dw1l8SqA6wZk",
        "outputId": "03b634e1-3dd9-49a3-f7bd-a1433468e808"
      },
      "execution_count": 4,
      "outputs": [
        {
          "output_type": "stream",
          "name": "stdout",
          "text": [
            "100°C to Fahrenheit: 212.0\n",
            "212°F to Celsius: 100.0\n",
            "37°C to Fahrenheit: 98.6\n",
            "98.6°F to Celsius: 37.0\n"
          ]
        }
      ]
    }
  ]
}