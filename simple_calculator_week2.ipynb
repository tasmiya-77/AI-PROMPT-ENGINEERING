{
  "nbformat": 4,
  "nbformat_minor": 0,
  "metadata": {
    "colab": {
      "provenance": []
    },
    "kernelspec": {
      "name": "python3",
      "display_name": "Python 3"
    },
    "language_info": {
      "name": "python"
    }
  },
  "cells": [
    {
      "cell_type": "code",
      "execution_count": null,
      "metadata": {
        "colab": {
          "base_uri": "https://localhost:8080/"
        },
        "id": "Y7QfkgJO4Xpu",
        "outputId": "19a9529d-a7e5-45ef-969d-fdda9869469a"
      },
      "outputs": [
        {
          "output_type": "stream",
          "name": "stdout",
          "text": [
            "\n",
            "=== Simple Calculator ===\n",
            "Available operations: +, -, *, /\n",
            "\n",
            "Type 'go' to calculate or 'exit' to quit: GO\n",
            "Enter the first number: 4595966\n",
            "Enter the second number: 3595\n",
            "Enter operation (+, -, *, /): +\n",
            "Result: 4599561.0\n",
            "\n",
            "Type 'go' to calculate or 'exit' to quit: GO\n",
            "Enter the first number: 2430545\n",
            "Enter the second number: 9988\n",
            "Enter operation (+, -, *, /): _\n",
            "Result: Invalid operation.\n",
            "\n",
            "Type 'go' to calculate or 'exit' to quit: GO\n",
            "Enter the first number: 34485\n",
            "Enter the second number: ?\n",
            "Error: Please enter numeric values.\n",
            "\n",
            "Type 'go' to calculate or 'exit' to quit: GO\n",
            "Enter the first number: 48569\n",
            "Enter the second number: 79\n",
            "Enter operation (+, -, *, /): /\n",
            "Result: 614.7974683544304\n",
            "\n",
            "Type 'go' to calculate or 'exit' to quit: EXIT\n",
            "Calculator closed.\n"
          ]
        }
      ],
      "source": [
        "# Unique Vault of Codes Week 2 Calculator\n",
        "\n",
        "def calculate(num1, num2, op):\n",
        "    operations = {\n",
        "        '+': num1 + num2,\n",
        "        '-': num1 - num2,\n",
        "        '*': num1 * num2,\n",
        "        '/': \"Error: Division by zero.\" if num2 == 0 else num1 / num2\n",
        "    }\n",
        "    return operations.get(op, \"Invalid operation.\")\n",
        "\n",
        "def main():\n",
        "    print(\"\\n=== Simple Calculator ===\")\n",
        "    print(\"Available operations: +, -, *, /\")\n",
        "    while True:\n",
        "        user_input = input(\"\\nType 'go' to calculate or 'exit' to quit: \").lower()\n",
        "        if user_input == 'exit':\n",
        "            print(\"Calculator closed.\")\n",
        "            break\n",
        "        if user_input != 'go':\n",
        "            print(\"Invalid input, type 'go' or 'exit'.\")\n",
        "            continue\n",
        "\n",
        "        try:\n",
        "            num1 = float(input(\"Enter the first number: \"))\n",
        "            num2 = float(input(\"Enter the second number: \"))\n",
        "        except ValueError:\n",
        "            print(\"Error: Please enter numeric values.\")\n",
        "            continue\n",
        "\n",
        "        op = input(\"Enter operation (+, -, *, /): \")\n",
        "        result = calculate(num1, num2, op)\n",
        "        print(f\"Result: {result}\")\n",
        "\n",
        "if __name__ == \"__main__\":\n",
        "    main()\n"
      ]
    }
  ]
}